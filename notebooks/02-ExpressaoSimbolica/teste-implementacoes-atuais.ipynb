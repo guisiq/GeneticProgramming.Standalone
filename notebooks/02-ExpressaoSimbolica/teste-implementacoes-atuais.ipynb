{
 "cells": [
  {
   "cell_type": "markdown",
   "id": "cca1c95f",
   "metadata": {},
   "source": [
    "# 🧪 Teste das Implementações Atuais - GeneticProgramming.Standalone\n",
    "\n",
    "## 📋 Objetivo\n",
    "Este notebook polyglot testa todas as implementações recentes do projeto GeneticProgramming.Standalone, validando:\n",
    "\n",
    "✅ **Componentes Implementados:**\n",
    "- SymbolicExpressionTreeNode (implementado recentemente)\n",
    "- Sistema de árvores de expressão simbólica\n",
    "- Operações de árvore (adicionar, remover, substituir subárvores)\n",
    "- Sistema de iteração completo (breadth-first, prefix, postfix)\n",
    "- Relacionamentos pai-filho automáticos\n",
    "- Sistema de clonagem profunda\n",
    "- Tipos de dados básicos\n",
    "\n",
    "🔄 **Status do Projeto:** Compilação bem-sucedida com funcionalidades básicas operacionais\n",
    "\n",
    "---"
   ]
  },
  {
   "cell_type": "markdown",
   "id": "84998e48",
   "metadata": {},
   "source": [
    "## 1️⃣ Setup do Ambiente\n",
    "\n",
    "Configurando o ambiente de testes e verificando se o projeto compila corretamente."
   ]
  },
  {
   "cell_type": "code",
   "execution_count": null,
   "id": "ff2bfab6",
   "metadata": {
    "vscode": {
     "languageId": "powershell"
    }
   },
   "outputs": [],
   "source": [
    "# Verificando a estrutura atual do projeto\n",
    "cd \"C:\\Users\\Guilherme\\source\\GeneticProgramming.Standalone\"\n",
    "Get-ChildItem -Recurse -Path \"src\" | Where-Object { $_.Extension -eq \".cs\" } | Select-Object Name, Directory"
   ]
  },
  {
   "cell_type": "code",
   "execution_count": null,
   "id": "2e386ad9",
   "metadata": {
    "vscode": {
     "languageId": "powershell"
    }
   },
   "outputs": [],
   "source": [
    "# Testando compilação do projeto\n",
    "cd \"C:\\Users\\Guilherme\\source\\GeneticProgramming.Standalone\"\n",
    "dotnet build --verbosity normal"
   ]
  },
  {
   "cell_type": "code",
   "execution_count": null,
   "id": "c79a4cfc",
   "metadata": {},
   "outputs": [],
   "source": [
    "// Configurando referências para o projeto\n",
    "#r \"C:\\Users\\Guilherme\\source\\GeneticProgramming.Standalone\\bin\\Debug\\net8.0\\GeneticProgramming.Standalone.dll\"\n",
    "\n",
    "using GeneticProgramming.Core;\n",
    "using GeneticProgramming.Expressions;\n",
    "using System;\n",
    "using System.Collections.Generic;\n",
    "using System.Linq;\n",
    "\n",
    "Console.WriteLine(\"✅ Referências carregadas com sucesso!\");\n",
    "Console.WriteLine($\"📦 Assemblies carregados: {AppDomain.CurrentDomain.GetAssemblies().Length}\");"
   ]
  },
  {
   "cell_type": "markdown",
   "id": "ee724174",
   "metadata": {},
   "source": [
    "## 2️⃣ Teste do SymbolicExpressionTreeNode\n",
    "\n",
    "Vamos testar a implementação recém-criada do `SymbolicExpressionTreeNode` e verificar suas funcionalidades básicas."
   ]
  },
  {
   "cell_type": "code",
   "execution_count": null,
   "id": "f9e7590e",
   "metadata": {},
   "outputs": [],
   "source": [
    "// Criando um símbolo mock para testar SymbolicExpressionTreeNode\n",
    "public class MockSymbol : ISymbol\n",
    "{\n",
    "    public string Name { get; }\n",
    "    public string Description { get; }\n",
    "    public int MinimumArity { get; }\n",
    "    public int MaximumArity { get; }\n",
    "    public double InitialFrequency { get; set; }\n",
    "    public bool Enabled { get; set; }\n",
    "    \n",
    "    public MockSymbol(string name, int minArity = 0, int maxArity = 0)\n",
    "    {\n",
    "        Name = name;\n",
    "        Description = $\"Mock symbol: {name}\";\n",
    "        MinimumArity = minArity;\n",
    "        MaximumArity = maxArity;\n",
    "        InitialFrequency = 1.0;\n",
    "        Enabled = true;\n",
    "    }\n",
    "    \n",
    "    public ISymbolicExpressionTreeNode CreateTreeNode()\n",
    "    {\n",
    "        return new SymbolicExpressionTreeNode(this);\n",
    "    }\n",
    "    \n",
    "    public IDeepCloneable Clone(Cloner cloner)\n",
    "    {\n",
    "        return new MockSymbol(Name, MinimumArity, MaximumArity);\n",
    "    }\n",
    "}\n",
    "\n",
    "Console.WriteLine(\"✅ MockSymbol criado com sucesso!\");"
   ]
  },
  {
   "cell_type": "code",
   "execution_count": null,
   "id": "e285eb03",
   "metadata": {},
   "outputs": [],
   "source": [
    "// Testando criação de nós básicos\n",
    "var addSymbol = new MockSymbol(\"Add\", 2, 2);\n",
    "var mulSymbol = new MockSymbol(\"Mul\", 2, 2);\n",
    "var constSymbol = new MockSymbol(\"Const\", 0, 0);\n",
    "var varSymbol = new MockSymbol(\"X\", 0, 0);\n",
    "\n",
    "// Criando nós\n",
    "var addNode = new SymbolicExpressionTreeNode(addSymbol);\n",
    "var mulNode = new SymbolicExpressionTreeNode(mulSymbol);\n",
    "var constNode = new SymbolicExpressionTreeNode(constSymbol);\n",
    "var varNode = new SymbolicExpressionTreeNode(varSymbol);\n",
    "\n",
    "Console.WriteLine($\"✅ Nós criados:\");\n",
    "Console.WriteLine($\"   - Add: {addNode.Symbol.Name} (SubtreeCount: {addNode.SubtreeCount})\");\n",
    "Console.WriteLine($\"   - Mul: {mulNode.Symbol.Name} (SubtreeCount: {mulNode.SubtreeCount})\");\n",
    "Console.WriteLine($\"   - Const: {constNode.Symbol.Name} (SubtreeCount: {constNode.SubtreeCount})\");\n",
    "Console.WriteLine($\"   - Var: {varNode.Symbol.Name} (SubtreeCount: {varNode.SubtreeCount})\");"
   ]
  },
  {
   "cell_type": "markdown",
   "id": "3521d091",
   "metadata": {},
   "source": [
    "## 3️⃣ Teste das Operações de Árvore\n",
    "\n",
    "Testando as operações fundamentais: adicionar, remover e substituir subárvores."
   ]
  },
  {
   "cell_type": "code",
   "execution_count": null,
   "id": "8eeb49f9",
   "metadata": {},
   "outputs": [],
   "source": [
    "// Testando adição de subárvores\n",
    "Console.WriteLine(\"\\n🔧 Testando adição de subárvores:\");\n",
    "\n",
    "// Construindo árvore: Add(Mul(X, Const), Const)\n",
    "addNode.AddSubtree(mulNode);\n",
    "addNode.AddSubtree(constNode);\n",
    "\n",
    "mulNode.AddSubtree(varNode);\n",
    "var constNode2 = new SymbolicExpressionTreeNode(constSymbol);\n",
    "mulNode.AddSubtree(constNode2);\n",
    "\n",
    "Console.WriteLine($\"✅ Add node agora tem {addNode.SubtreeCount} subárvores\");\n",
    "Console.WriteLine($\"✅ Mul node agora tem {mulNode.SubtreeCount} subárvores\");\n",
    "Console.WriteLine($\"✅ Estrutura: {addNode.Symbol.Name}({mulNode.Symbol.Name}({varNode.Symbol.Name}, {constNode2.Symbol.Name}), {constNode.Symbol.Name})\");\n",
    "\n",
    "// Verificando relacionamentos pai-filho\n",
    "Console.WriteLine($\"\\n👨‍👦 Relacionamentos pai-filho:\");\n",
    "Console.WriteLine($\"   - mulNode.Parent == addNode: {mulNode.Parent == addNode}\");\n",
    "Console.WriteLine($\"   - constNode.Parent == addNode: {constNode.Parent == addNode}\");\n",
    "Console.WriteLine($\"   - varNode.Parent == mulNode: {varNode.Parent == mulNode}\");\n",
    "Console.WriteLine($\"   - constNode2.Parent == mulNode: {constNode2.Parent == mulNode}\");"
   ]
  },
  {
   "cell_type": "code",
   "execution_count": null,
   "id": "6f87118f",
   "metadata": {},
   "outputs": [],
   "source": [
    "// Testando cálculos de profundidade e comprimento\n",
    "Console.WriteLine($\"\\n📏 Métricas da árvore:\");\n",
    "Console.WriteLine($\"   - Profundidade total: {addNode.GetDepth()}\");\n",
    "Console.WriteLine($\"   - Comprimento total: {addNode.GetLength()}\");\n",
    "Console.WriteLine($\"   - Profundidade do mul: {mulNode.GetDepth()}\");\n",
    "Console.WriteLine($\"   - Comprimento do mul: {mulNode.GetLength()}\");\n",
    "\n",
    "// Testando busca de subárvores\n",
    "Console.WriteLine($\"\\n🔍 Busca de subárvores:\");\n",
    "var mulIndex = addNode.IndexOfSubtree(mulNode);\n",
    "var constIndex = addNode.IndexOfSubtree(constNode);\n",
    "Console.WriteLine($\"   - Índice do mulNode em addNode: {mulIndex}\");\n",
    "Console.WriteLine($\"   - Índice do constNode em addNode: {constIndex}\");\n",
    "Console.WriteLine($\"   - addNode.GetSubtree(0) == mulNode: {addNode.GetSubtree(0) == mulNode}\");\n",
    "Console.WriteLine($\"   - addNode.GetSubtree(1) == constNode: {addNode.GetSubtree(1) == constNode}\");"
   ]
  },
  {
   "cell_type": "code",
   "execution_count": null,
   "id": "8ff80759",
   "metadata": {},
   "outputs": [],
   "source": [
    "// Testando substituição de subárvores\n",
    "Console.WriteLine($\"\\n🔄 Testando substituição de subárvores:\");\n",
    "\n",
    "// Criando uma nova subárvore para substituição\n",
    "var divSymbol = new MockSymbol(\"Div\", 2, 2);\n",
    "var divNode = new SymbolicExpressionTreeNode(divSymbol);\n",
    "var varNode2 = new SymbolicExpressionTreeNode(varSymbol);\n",
    "var constNode3 = new SymbolicExpressionTreeNode(constSymbol);\n",
    "\n",
    "divNode.AddSubtree(varNode2);\n",
    "divNode.AddSubtree(constNode3);\n",
    "\n",
    "Console.WriteLine($\"   - Antes: SubtreeCount = {addNode.SubtreeCount}, Subtree[0] = {addNode.GetSubtree(0).Symbol.Name}\");\n",
    "\n",
    "// Substituindo mulNode por divNode\n",
    "addNode.ReplaceSubtree(0, divNode);\n",
    "\n",
    "Console.WriteLine($\"   - Depois: SubtreeCount = {addNode.SubtreeCount}, Subtree[0] = {addNode.GetSubtree(0).Symbol.Name}\");\n",
    "Console.WriteLine($\"   - divNode.Parent == addNode: {divNode.Parent == addNode}\");\n",
    "Console.WriteLine($\"   - mulNode.Parent == null: {mulNode.Parent == null}\");\n",
    "Console.WriteLine($\"   - Nova estrutura: {addNode.Symbol.Name}({divNode.Symbol.Name}({varNode2.Symbol.Name}, {constNode3.Symbol.Name}), {constNode.Symbol.Name})\");"
   ]
  },
  {
   "cell_type": "markdown",
   "id": "b2a46837",
   "metadata": {},
   "source": [
    "## 4️⃣ Validação do Sistema de Iteração\n",
    "\n",
    "Testando os três tipos de iteração: breadth-first, prefix e postfix."
   ]
  },
  {
   "cell_type": "code",
   "execution_count": null,
   "id": "6eb70d03",
   "metadata": {},
   "outputs": [],
   "source": [
    "// Testando iteração breadth-first\n",
    "Console.WriteLine($\"\\n🌐 Iteração Breadth-First:\");\n",
    "var breadthNodes = addNode.IterateNodesBreadth().ToList();\n",
    "for (int i = 0; i < breadthNodes.Count; i++)\n",
    "{\n",
    "    Console.WriteLine($\"   [{i}] {breadthNodes[i].Symbol.Name}\");\n",
    "}\n",
    "Console.WriteLine($\"   Total de nós: {breadthNodes.Count}\");"
   ]
  },
  {
   "cell_type": "code",
   "execution_count": null,
   "id": "0e4af683",
   "metadata": {},
   "outputs": [],
   "source": [
    "// Testando iteração prefix (pré-ordem)\n",
    "Console.WriteLine($\"\\n📋 Iteração Prefix (Pré-ordem):\");\n",
    "var prefixNodes = addNode.IterateNodesPrefix().ToList();\n",
    "for (int i = 0; i < prefixNodes.Count; i++)\n",
    "{\n",
    "    Console.WriteLine($\"   [{i}] {prefixNodes[i].Symbol.Name}\");\n",
    "}\n",
    "Console.WriteLine($\"   Total de nós: {prefixNodes.Count}\");\n",
    "\n",
    "// Testando ForEachNodePrefix\n",
    "Console.WriteLine($\"\\n🔄 Teste ForEachNodePrefix:\");\n",
    "var prefixOrder = new List<string>();\n",
    "addNode.ForEachNodePrefix(node => prefixOrder.Add(node.Symbol.Name));\n",
    "Console.WriteLine($\"   Ordem: {string.Join(\" -> \", prefixOrder)}\");"
   ]
  },
  {
   "cell_type": "code",
   "execution_count": null,
   "id": "4c4e0362",
   "metadata": {},
   "outputs": [],
   "source": [
    "// Testando iteração postfix (pós-ordem)\n",
    "Console.WriteLine($\"\\n📄 Iteração Postfix (Pós-ordem):\");\n",
    "var postfixNodes = addNode.IterateNodesPostfix().ToList();\n",
    "for (int i = 0; i < postfixNodes.Count; i++)\n",
    "{\n",
    "    Console.WriteLine($\"   [{i}] {postfixNodes[i].Symbol.Name}\");\n",
    "}\n",
    "Console.WriteLine($\"   Total de nós: {postfixNodes.Count}\");\n",
    "\n",
    "// Testando ForEachNodePostfix\n",
    "Console.WriteLine($\"\\n🔄 Teste ForEachNodePostfix:\");\n",
    "var postfixOrder = new List<string>();\n",
    "addNode.ForEachNodePostfix(node => postfixOrder.Add(node.Symbol.Name));\n",
    "Console.WriteLine($\"   Ordem: {string.Join(\" -> \", postfixOrder)}\");"
   ]
  },
  {
   "cell_type": "markdown",
   "id": "45d6ee48",
   "metadata": {},
   "source": [
    "## 5️⃣ Teste dos Relacionamentos Pai-Filho\n",
    "\n",
    "Validando que as referências pai-filho são mantidas automaticamente durante manipulações."
   ]
  },
  {
   "cell_type": "code",
   "execution_count": null,
   "id": "58dc6296",
   "metadata": {},
   "outputs": [],
   "source": [
    "// Testando relacionamentos após várias operações\n",
    "Console.WriteLine($\"\\n👨‍👦‍👦 Validação completa de relacionamentos pai-filho:\");\n",
    "\n",
    "// Função auxiliar para verificar integridade da árvore\n",
    "void ValidateTreeIntegrity(ISymbolicExpressionTreeNode node, string nodeName)\n",
    "{\n",
    "    Console.WriteLine($\"\\n🔍 Validando {nodeName}:\");\n",
    "    Console.WriteLine($\"   - Nome: {node.Symbol.Name}\");\n",
    "    Console.WriteLine($\"   - Subárvores: {node.SubtreeCount}\");\n",
    "    \n",
    "    for (int i = 0; i < node.SubtreeCount; i++)\n",
    "    {\n",
    "        var child = node.GetSubtree(i);\n",
    "        var parentCorrect = child.Parent == node;\n",
    "        Console.WriteLine($\"   - Filho[{i}]: {child.Symbol.Name} (Parent correto: {parentCorrect})\");\n",
    "        \n",
    "        if (!parentCorrect)\n",
    "        {\n",
    "            Console.WriteLine($\"❌ ERRO: Relacionamento pai-filho incorreto!\");\n",
    "        }\n",
    "    }\n",
    "}\n",
    "\n",
    "// Validando a árvore atual\n",
    "ValidateTreeIntegrity(addNode, \"Nó raiz (Add)\");\n",
    "ValidateTreeIntegrity(divNode, \"Primeiro filho (Div)\");"
   ]
  },
  {
   "cell_type": "code",
   "execution_count": null,
   "id": "9c1a3056",
   "metadata": {},
   "outputs": [],
   "source": [
    "// Testando operações que modificam relacionamentos\n",
    "Console.WriteLine($\"\\n🔧 Testando modificações de relacionamentos:\");\n",
    "\n",
    "// Teste 1: Inserção\n",
    "var newConstNode = new SymbolicExpressionTreeNode(constSymbol);\n",
    "Console.WriteLine($\"\\n📥 Inserindo novo nó:\");\n",
    "Console.WriteLine($\"   - Antes: {addNode.SubtreeCount} subárvores\");\n",
    "addNode.InsertSubtree(1, newConstNode);\n",
    "Console.WriteLine($\"   - Depois: {addNode.SubtreeCount} subárvores\");\n",
    "Console.WriteLine($\"   - newConstNode.Parent == addNode: {newConstNode.Parent == addNode}\");\n",
    "Console.WriteLine($\"   - Índice do newConstNode: {addNode.IndexOfSubtree(newConstNode)}\");\n",
    "\n",
    "// Teste 2: Remoção\n",
    "Console.WriteLine($\"\\n🗑️ Removendo nó inserido:\");\n",
    "Console.WriteLine($\"   - Antes: {addNode.SubtreeCount} subárvores\");\n",
    "addNode.RemoveSubtree(1);\n",
    "Console.WriteLine($\"   - Depois: {addNode.SubtreeCount} subárvores\");\n",
    "Console.WriteLine($\"   - newConstNode.Parent == null: {newConstNode.Parent == null}\");\n",
    "\n",
    "// Validação final\n",
    "ValidateTreeIntegrity(addNode, \"Árvore após modificações\");"
   ]
  },
  {
   "cell_type": "markdown",
   "id": "ecb730d9",
   "metadata": {},
   "source": [
    "## 6️⃣ Teste do Sistema de Clonagem\n",
    "\n",
    "Testando a clonagem profunda de árvores complexas."
   ]
  },
  {
   "cell_type": "code",
   "execution_count": null,
   "id": "9ef91eef",
   "metadata": {},
   "outputs": [],
   "source": [
    "// Testando clonagem de árvores\n",
    "Console.WriteLine($\"\\n🧬 Testando clonagem profunda:\");\n",
    "\n",
    "// Criando um cloner\n",
    "var cloner = new Cloner();\n",
    "\n",
    "// Clonando a árvore\n",
    "var clonedAddNode = (SymbolicExpressionTreeNode)addNode.Clone(cloner);\n",
    "\n",
    "Console.WriteLine($\"\\n📊 Comparação Original vs Clone:\");\n",
    "Console.WriteLine($\"   Original - Profundidade: {addNode.GetDepth()}, Comprimento: {addNode.GetLength()}\");\n",
    "Console.WriteLine($\"   Clone    - Profundidade: {clonedAddNode.GetDepth()}, Comprimento: {clonedAddNode.GetLength()}\");\n",
    "Console.WriteLine($\"   Objetos diferentes: {addNode != clonedAddNode}\");\n",
    "Console.WriteLine($\"   Símbolos iguais: {addNode.Symbol.Name == clonedAddNode.Symbol.Name}\");\n",
    "\n",
    "// Verificando independência dos clones\n",
    "Console.WriteLine($\"\\n🔬 Verificando independência:\");\n",
    "var originalSubtreeCount = addNode.SubtreeCount;\n",
    "var clonedSubtreeCount = clonedAddNode.SubtreeCount;\n",
    "\n",
    "Console.WriteLine($\"   - Original tem {originalSubtreeCount} subárvores\");\n",
    "Console.WriteLine($\"   - Clone tem {clonedSubtreeCount} subárvores\");\n",
    "\n",
    "// Modificando o clone para verificar independência\n",
    "var testNode = new SymbolicExpressionTreeNode(new MockSymbol(\"Test\"));\n",
    "clonedAddNode.AddSubtree(testNode);\n",
    "\n",
    "Console.WriteLine($\"\\n✏️ Após modificar o clone:\");\n",
    "Console.WriteLine($\"   - Original ainda tem {addNode.SubtreeCount} subárvores\");\n",
    "Console.WriteLine($\"   - Clone agora tem {clonedAddNode.SubtreeCount} subárvores\");\n",
    "Console.WriteLine($\"   ✅ Clones são independentes: {addNode.SubtreeCount != clonedAddNode.SubtreeCount}\");"
   ]
  },
  {
   "cell_type": "markdown",
   "id": "df597eee",
   "metadata": {},
   "source": [
    "## 7️⃣ Verificação Final de Compilação\n",
    "\n",
    "Executando uma verificação final para garantir que todas as implementações estão funcionando corretamente."
   ]
  },
  {
   "cell_type": "code",
   "execution_count": null,
   "id": "644eab48",
   "metadata": {
    "vscode": {
     "languageId": "powershell"
    }
   },
   "outputs": [],
   "source": [
    "# Compilação final com análise detalhada\n",
    "cd \"C:\\Users\\Guilherme\\source\\GeneticProgramming.Standalone\"\n",
    "\n",
    "Write-Host \"🔨 Compilando projeto com análise detalhada...\" -ForegroundColor Green\n",
    "dotnet build --configuration Release --verbosity normal\n",
    "\n",
    "Write-Host \"\\n📊 Verificando tamanho dos assemblies:\" -ForegroundColor Blue\n",
    "Get-ChildItem -Path \"bin\\Release\\net8.0\" -Filter \"*.dll\" | Select-Object Name, @{Name=\"Size(KB)\";Expression={[math]::Round($_.Length/1KB,2)}}"
   ]
  },
  {
   "cell_type": "code",
   "execution_count": null,
   "id": "575aa890",
   "metadata": {},
   "outputs": [],
   "source": [
    "// Teste final de integração - criando uma árvore mais complexa\n",
    "Console.WriteLine($\"\\n🎯 TESTE FINAL DE INTEGRAÇÃO\");\n",
    "Console.WriteLine($\"==============================\\n\");\n",
    "\n",
    "// Criando uma expressão: Add(Mul(X, Y), Div(Const, Sub(Z, Const)))\n",
    "var ySymbol = new MockSymbol(\"Y\", 0, 0);\n",
    "var zSymbol = new MockSymbol(\"Z\", 0, 0);\n",
    "var subSymbol = new MockSymbol(\"Sub\", 2, 2);\n",
    "\n",
    "// Nível 0 (raiz)\n",
    "var rootAdd = new SymbolicExpressionTreeNode(addSymbol);\n",
    "\n",
    "// Nível 1\n",
    "var leftMul = new SymbolicExpressionTreeNode(mulSymbol);\n",
    "var rightDiv = new SymbolicExpressionTreeNode(divSymbol);\n",
    "\n",
    "// Nível 2\n",
    "var xNode = new SymbolicExpressionTreeNode(varSymbol);\n",
    "var yNode = new SymbolicExpressionTreeNode(ySymbol);\n",
    "var constNodeA = new SymbolicExpressionTreeNode(constSymbol);\n",
    "var subNode = new SymbolicExpressionTreeNode(subSymbol);\n",
    "\n",
    "// Nível 3\n",
    "var zNode = new SymbolicExpressionTreeNode(zSymbol);\n",
    "var constNodeB = new SymbolicExpressionTreeNode(constSymbol);\n",
    "\n",
    "// Montando a árvore\n",
    "leftMul.AddSubtree(xNode);\n",
    "leftMul.AddSubtree(yNode);\n",
    "\n",
    "subNode.AddSubtree(zNode);\n",
    "subNode.AddSubtree(constNodeB);\n",
    "\n",
    "rightDiv.AddSubtree(constNodeA);\n",
    "rightDiv.AddSubtree(subNode);\n",
    "\n",
    "rootAdd.AddSubtree(leftMul);\n",
    "rootAdd.AddSubtree(rightDiv);\n",
    "\n",
    "Console.WriteLine($\"🌳 Árvore complexa criada:\");\n",
    "Console.WriteLine($\"   Estrutura: Add(Mul(X, Y), Div(Const, Sub(Z, Const)))\");\n",
    "Console.WriteLine($\"   Profundidade: {rootAdd.GetDepth()}\");\n",
    "Console.WriteLine($\"   Comprimento: {rootAdd.GetLength()}\");\n",
    "Console.WriteLine($\"   Total de subárvores no nível raiz: {rootAdd.SubtreeCount}\");\n",
    "\n",
    "Console.WriteLine($\"\\n🔄 Iterações da árvore complexa:\");\n",
    "var allNodes = rootAdd.IterateNodesPrefix().ToList();\n",
    "Console.WriteLine($\"   Ordem prefix: {string.Join(\" → \", allNodes.Select(n => n.Symbol.Name))}\");\n",
    "\n",
    "var postfixNodes = rootAdd.IterateNodesPostfix().ToList();\n",
    "Console.WriteLine($\"   Ordem postfix: {string.Join(\" → \", postfixNodes.Select(n => n.Symbol.Name))}\");\n",
    "\n",
    "Console.WriteLine($\"\\n✅ TODOS OS TESTES PASSARAM COM SUCESSO!\");\n",
    "Console.WriteLine($\"📈 Projeto GeneticProgramming.Standalone está funcionando corretamente!\");"
   ]
  },
  {
   "cell_type": "markdown",
   "id": "6ad4aefa",
   "metadata": {},
   "source": [
    "## 🎉 Conclusão dos Testes\n",
    "\n",
    "### ✅ Funcionalidades Validadas\n",
    "\n",
    "1. **SymbolicExpressionTreeNode** - ✅ Implementado e funcionando\n",
    "2. **Operações de árvore** - ✅ Adicionar, remover, substituir subárvores\n",
    "3. **Sistema de iteração** - ✅ Breadth-first, prefix, postfix\n",
    "4. **Relacionamentos pai-filho** - ✅ Manutenção automática\n",
    "5. **Sistema de clonagem** - ✅ Clonagem profunda funcional\n",
    "6. **Compilação** - ✅ Sem erros\n",
    "\n",
    "### 🔄 Próximos Passos\n",
    "\n",
    "1. **Implementar sistema de símbolos** (Add, Mul, Variable, Constant)\n",
    "2. **Criar gramáticas básicas** para validação de árvores\n",
    "3. **Implementar operadores genéticos** (crossover, mutation)\n",
    "4. **Desenvolver algoritmos GP** básicos\n",
    "5. **Criar problemas exemplo** para demonstração\n",
    "\n",
    "### 📊 Status do Projeto\n",
    "\n",
    "**🎯 Marco Alcançado:** Base sólida para programação genética implementada!\n",
    "\n",
    "O projeto agora possui uma fundação robusta que permite a construção e manipulação de árvores de expressão simbólica. Todas as operações fundamentais estão funcionando corretamente."
   ]
  }
 ],
 "metadata": {
  "language_info": {
   "name": "csharp"
  }
 },
 "nbformat": 4,
 "nbformat_minor": 5
}
